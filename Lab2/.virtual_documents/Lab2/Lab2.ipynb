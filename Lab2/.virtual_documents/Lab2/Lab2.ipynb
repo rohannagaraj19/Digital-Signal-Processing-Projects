


# import necessary libraries for this lab
import numpy as np
import scipy.signal as signal
import matplotlib.pyplot as plt

from skimage.io import imread

%matplotlib inline





x = np.array([1, 0, 2, 0, 3]) # input signal
h = np.array([1, 3]) # filter/system's impulse response
y = signal.convolve(x,h) # signal.convolve(in1,in2)

print(y) # verify this result by hand!








# create input signals here:
# Hint: Use np.sin and np.pi!
def x1(n):
    return np.heaviside(n,1) - np.heaviside(n-10,1)
def x2(n):
    return np.sin((np.pi/20) * n)
# System A
def sysA(n, inp):
    if inp==1:
        return x1(n)-x1(n-1)
    else:
        return x2(n)-x2(n-1)

# plot result for x1
n1 = np.arange(0,20)
plt.figure(figsize=(10,6))
plt.subplot(2,1,1)
plt.stem(n1, sysA(n1,1)) 

# plot result for x2
n2 = np.arange(0,40)
plt.subplot(2,1,2)
plt.stem(n2, sysA(n2,2))

# System B
def sysB(n,inp):
    if inp==1:
        return (1/3)*x1(n) + (1/3)*x1(n-1) + (1/3)*x1(n-2)
    else:
        return (1/3)*x2(n) + (1/3)*x2(n-1) + (1/3)*x2(n-2)

# plot result for x1
plt.figure(figsize=(10,6))
plt.subplot(2,1,1)
plt.stem(n1, sysB(n1,1))

# plot result for x2
plt.subplot(2,1,2)
plt.stem(n2, sysB(n2,2))






# Defining xp(n)
def xp(n):
    arr = [3, 1]  # You can extend this array if needed
    if n >= len(arr):
        return 0
    else:
        return arr[n]

# Defining sysC(n)
def sysC(n, cache={}):
    # Handle base cases and caching to avoid redundant calculations
    if n in cache:
        return cache[n]
    if n < 0:
        return 0
    if n == 0:
        cache[n] = 2 * xp(0)
        return cache[n]
    if n == 1:
        cache[n] = (1/6) * sysC(0) + 2 * xp(1) + xp(0)
        return cache[n]
    
    # Recursive relation
    cache[n] = (1/6) * sysC(n-1) + (1/6) * sysC(n-2) + 2 * xp(n) + xp(n-1)
    return cache[n]

def sysD1(n):
    return (-(6/5)*(-1/3)**(n) + (36/5)*(1/2)**(n)) * np.heaviside(n,1)
def sysD2(n):
    return (-(2/5)*(-1/3)**(n-1) + (12/5)*(1/2)**(n-1)) * np.heaviside(n-1,1)

# Define n and calculate the system response for each n
n = np.arange(0, 10)
sysC_vals = np.array([sysC(i) for i in n])

# Plotting the result
plt.figure()
plt.stem(n, sysC_vals)
plt.stem(n, sysD1(n)+sysD2(n), 'red')
plt.xlabel('n')
plt.ylabel('sysC(n)')
plt.title('System Response')
plt.grid(True)
plt.show()








bitcoin_data = np.load('bitcoin-christmas.npy', allow_pickle=True)
n_points = len(bitcoin_data)
plt.figure(figsize = (8,6))
plt.plot(range(n_points), bitcoin_data)
plt.title('Bitcoin Prices Every Minute 12/24/2017')
plt.xlabel('Minute from Midnight')
plt.ylabel('Price (USD)')





# Provided code
L = 51
half_L = 25
start = 50
end = len(bitcoin_data)-half_L
plotting_data = bitcoin_data[start:end] # plot against this data in parts a/b, pay attention to how we slice
result_length = len(plotting_data)

# Code for 2.a here, don't forget to plot original and filtered signals on same plot!
plt.figure()
plt.plot(range(result_length), plotting_data, label = 'raw data')
plt.title('Part A: Bitcoin Prices Every Minute 12/24/2017')
plt.xlabel('Minute from Midnight')
plt.ylabel('Price (USD)')

h = np.ones(L) * (1/51) #array of 1/51's
partA = signal.convolve(bitcoin_data, h) #takes shape of bitcoin_data since that's first argument


plt.plot(range(result_length), partA[start:end], label = 'filtered data', color = 'red')
plt.legend()


# Code for 2.b here
plt.figure()
plt.plot(range(result_length), plotting_data, label = 'raw data')
plt.title('Part B: Bitcoin Prices Every Minute 12/24/2017')
plt.xlabel('Minute from Midnight')
plt.ylabel('Price (USD)')

h2 = np.ones(L)*(1/51) 
partB = signal.convolve(bitcoin_data, h2, mode = 'same')

plt.plot(range(result_length), partB[start:end], label = 'filtered data', color = 'orange')
plt.legend()

    
# Code for 2.c here
plt.figure()
plt.title('Part C')
plt.xlabel('Minute from Midnight')
plt.ylabel('Price (USD)')

y_diff_causal = partA[start:end] - plotting_data
y_diff_noncausal = partB[start:end] - plotting_data

plt.plot(range(result_length), y_diff_causal, label = 'vs causal')
plt.plot(range(result_length), y_diff_noncausal, label = 'vs noncausal')
plt.legend()


















# make filter and load image
image = imread('test-image.jpg')
plt.figure(figsize=(10,6))
plt.imshow(image, 'gray')
plt.title('Original Image')
L = 11
h = np.ones(L) * 1/11 # impulse response of length-11 moving average filter
n_rows, n_cols = image.shape
# Code for 3.a along rows (apply filter to each row independently)
image_row = np.zeros(image.shape)
# Hint: image_row[i, :] = signal.convolve(image[i, :], h, 'same') for each row
for i in range(image.shape[0]):
    image_row[i,:] = signal.convolve(image[i,:], h, 'same') 
plt.figure(figsize = (10,6)) #new images
plt.subplot(2,2,1)
plt.title('rows')
plt.imshow(image_row, 'gray')

# along the columns (3.b)
image_col = np.zeros(image.shape)
for i in range(image.shape[1]):
    image_col[:, i] = signal.convolve(image[:, i], h, 'same')
plt.subplot(2,2,2)
plt.title('coloumns')
plt.imshow(image_col, 'gray')

# rows then columns (3.c)
image_rowcol = np.zeros(image.shape)
for i in range(image.shape[1]):
    image_rowcol[:,i] = signal.convolve(image_row[:,i], h, 'same')
plt.subplot(2,2,3)
plt.title('rows then coloumns')
plt.imshow(image_rowcol, 'gray')

# columns then rows (3.d)
image_colrow = np.zeros(image.shape)
for i in range(image.shape[0]):
    image_colrow[i, :] = signal.convolve(image_col[i,:], h, 'same')
plt.subplot(2,2,4)
plt.title('coloumns then rows')
plt.imshow(image_colrow, 'gray')













# load test-image.jpg
test = imread('test-image.jpg')
plt.figure(figsize= (10,6))
plt.imshow(test, 'gray')
plt.title("Original Image")
# Code for 4.c here:
plt.figure(figsize = (10,6)) #new images
plt.subplot(2,2,1)

rowsImage = np.zeros(test.shape)
LeEdge = np.array([1,-1]) #filter
for i in range(test.shape[0]):
    rowsImage[i,:] = signal.convolve(test[i,:], LeEdge, 'same')

plt.imshow(rowsImage, 'gray')
plt.title('rows')

# Code for 4.d here:
colsImage = np.zeros(test.shape)
for i in range(test.shape[1]):
    colsImage[:, i] = signal.convolve(test[:,i], LeEdge, 'same')
plt.subplot(2,2,2)
plt.imshow(colsImage, 'gray')
plt.title('cols')

# Code for 4.e here:
rowsImage = rowsImage**2
colsImage = colsImage**2
edgeFinalBoss = rowsImage + colsImage
edgeFinalBoss = np.sqrt(edgeFinalBoss)
plt.subplot(2,2,3)
plt.title('combination of both results')
plt.imshow(edgeFinalBoss, 'gray')








def convolve_2d(image, kernel):
    result = signal.convolve2d(image, kernel, 'same')
    result[result < 0] = 0 # Keep values non-negative
    return result

# identify horizontal lines
horiz_kernel = np.array([[-2,-2,-2,-2,-2],
                         [1,1,1,1,1],
                         [1,1,1,1,1],
                         [1,1,1,1,1],
                         [-2,-2,-2,-2,-2]])

# identify vertical lines
vert_kernel = np.array([[-2,1,1,1,-2],
                        [-2,1,1,1,-2],
                        [-2,1,1,1,-2],
                        [-2,1,1,1,-2],
                        [-2,1,1,1,-2]])
# vert_kernel = np.array([[2,1,1,1,2],
#                         [2,1,1,1,2],
#                         [2,1,1,1,2],
#                         [2,1,1,1,2],
#                         [2,1,1,1,2]])





one = imread('one.jpg')

plt.figure(figsize=(16,10))
plt.subplot(131)
plt.title('Original')
plt.imshow(one, 'gray')

one_horiz = convolve_2d(one, horiz_kernel)
plt.subplot(132)
plt.title('Horizontal Features')
plt.imshow(one_horiz, 'hot')
plt.colorbar(fraction=0.05)

one_vert = convolve_2d(one, vert_kernel)
plt.subplot(133)
plt.title('Vertical Features')
plt.imshow(one_vert, 'hot')
plt.colorbar(fraction=0.05)





# Code for 5.a here
four= imread('four.jpg')
plt.figure(figsize=(16,10))
plt.subplot(131)
plt.title('Original')
plt.imshow(four, 'gray')

four_horiz = convolve_2d(four, horiz_kernel)
plt.subplot(132)
plt.title('Horizontal Features')
plt.imshow(four_horiz, 'hot')
plt.colorbar(fraction=0.05)

four_vert = convolve_2d(four, vert_kernel)
plt.subplot(133)
plt.title('Vertical Features')
plt.imshow(four_vert, 'hot')
plt.colorbar(fraction=0.05)

#le 8
eight= imread('eight.jpg')
plt.figure(figsize=(16,10))
plt.subplot(131)
plt.title('Original')
plt.imshow(eight, 'gray')

eight_horiz = convolve_2d(eight, horiz_kernel)
plt.subplot(132)
plt.title('Horizontal Features')
plt.imshow(eight_horiz, 'hot')
plt.colorbar(fraction=0.05)

eight_vert = convolve_2d(eight, vert_kernel)
plt.subplot(133)
plt.title('Vertical Features')
plt.imshow(eight_vert, 'hot')
plt.colorbar(fraction=0.05)








clean_image = imread('clean-image.jpg')
noisy_image = imread('noisy-image.jpg')
plt.figure(figsize=(15,15))
plt.subplot(121)
plt.imshow(clean_image, 'gray')
plt.title('Original Image')
plt.subplot(122)
plt.imshow(noisy_image, 'gray')
plt.title('Image with 20% Salt-and-Pepper Noise')





# Code for 6.b
lemean = np.ones((5,5))/25
mean_noise = convolve_2d(noisy_image, lemean)
plt.plot()
plt.imshow(mean_noise, 'gray')
plt.title('mean filter')
# Code for 6.c
lemedian = signal.medfilt(noisy_image, 5)
plt.figure()
plt.plot()
plt.imshow(lemedian, 'gray')
plt.title('median filter')







