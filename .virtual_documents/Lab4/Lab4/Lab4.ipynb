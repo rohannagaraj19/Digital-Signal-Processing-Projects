





# import libraries first
import numpy as np
import matplotlib.pyplot as plt

from IPython.display import Audio
from scipy import signal
from scipy.io import wavfile
from skimage.io import imread
from sklearn.cluster import KMeans

%matplotlib inline


x = [0, 1, 0, 2, 0, 2, 0, 1, 0] # test signal

full_fft = np.fft.fft(x)
real_fft = np.fft.rfft(x)

omega_full = np.linspace(0, 2*np.pi, len(full_fft)) # left limit, right limit, # pts
omega_real = np.linspace(0, np.pi, len(real_fft))

plt.figure(figsize=(15, 6))
plt.subplot(121)
plt.title('Full FFT')
plt.xlabel('$\\omega$')
plt.ylabel('Magnitude Response')
plt.plot(omega_full, np.absolute(full_fft))

plt.subplot(122)
plt.title('Real FFT')
plt.xlabel('$\\omega$')
plt.ylabel('Magnitude Response')
plt.plot(omega_real,np.absolute(real_fft))





x = [0, 1, 0, 2, 0, 2, 0, 1, 0]

full_fft = np.fft.fft(x, 512)
centered_fft = np.fft.fftshift(full_fft) # shifts central frequency to middle of array
real_fft = np.fft.rfft(x, 512)

omega_full = np.linspace(-np.pi, np.pi, len(centered_fft)) # new frequency axis
omega_real = np.linspace(0, np.pi, len(real_fft))

plt.figure(figsize=(15, 6))
plt.subplot(121)
plt.title('Full FFT')
plt.xlabel('$\\omega$')
plt.ylabel('Real Part')
plt.plot(omega_full, np.absolute(centered_fft))

plt.subplot(122)
plt.title('Real FFT')
plt.xlabel('$\\omega$')
plt.ylabel('Real Part')
plt.plot(omega_real, np.absolute(real_fft))





b = [np.sin((np.pi/2)*n)/(0.5*np.pi*n) if n != 0 else 1 for n in range(-100, 101)] # numerator coefficients
a = [1,0] #denominator coefficients
w, h = signal.freqz(b, a) # w = omega/digital frequencies, h = frequency response
plt.figure(figsize=(10, 6))
plt.title('Toy Frequency Response')
plt.plot(w, 20*np.log10(np.absolute(h))) # plot magnitude of frequency response with db-scaling on y-axis
plt.xlabel('$\\omega$')
plt.ylabel('Magnitude Response (dB)')





# Function to implement for part 1.a:
"""
Inputs:
x - input signal (list or np.array)
w - frequencies we want to compute the DTFT for (list or np.array)
Output:
dtft - value of the DTFT for signal x at each frequency specified in w (list or np.array)
"""
def myDTFT(x, w):
    dtft = [] # create empty list to append resulting computation
    # Iterate over each frequency in w
    for omega in w:
        sum = 0
        for n in range(len(x)):
            sum += x[n]* np.exp(-1j* omega *n)
        dtft.append(sum)
    # Compute summation for current frequency according to our DTFT definition, "1j" gives you the imaginary number
    
    # Append result for current frequency
    
    return dtft

# Code for part 1.b:
x = np.array([np.cos(0.5*np.pi*n) for n in range(50)])
# endpoint argument makes sure our definition aligns with the np.fft.fft result
w = np.linspace(-np.pi, np.pi, 50, endpoint=False)


dtft = myDTFT(x,w)
fig1b, ax1 = plt.subplots(2,2, figsize = (10,10)) #declare subplots


ax1[0,0].plot(w,np.absolute(dtft))
ax1[0, 0].set_title('Magnitude of myDTFT')

ax1[0,1].plot(w,np.angle(dtft))
ax1[0,1].set_title('Phase Response of myDTFT')


fft = np.fft.fft(x,50)
fft = np.fft.fftshift(fft) # shifts central frequency to middle of array

ax1[1,0].plot(w,np.absolute(fft))
ax1[1, 0].set_title('Magnitude of FFT')

ax1[1,1].plot(w,np.angle(fft))
ax1[1,1].set_title('Phase Response of FFT')








# Code for 2.a:
fig2, a2 = plt.subplots(2,2, figsize = (10,10))
# Remember to plot magnitude and phase of signals side-by-side with plt.subplot(nrows,ncols,plot number)
x1 = [1/4, 1/2, 1, 1/2, 1/4]
fftx1=np.fft.rfft(x1,512)
#fftx1 =np.fft.fftshift(fftx1)
omega_real = np.linspace(0,np.pi, len(fftx1))
a2[0,0].plot(omega_real, np.absolute(fftx1))
a2[0,0].set_title("2a magnitude response")
a2[0,1].plot(omega_real, np.angle(fftx1))
a2[0,1].set_title("2a phase response")

# Code for 2.b:
x2 = [-1,0,2,0,-1]
fftx2 = np.fft.rfft(x2,512)
#fftx2 = np.fft.fftshift(fftx2)
a2[1,0].plot(omega_real, np.absolute(fftx2))
a2[1,0].set_title("2b magnitude response")
a2[1,1].plot(omega_real, np.angle(fftx2))
a2[1,1].set_title("2b phase response")


_, b2 = plt.subplots(2 ,figsize = (10,10))
# Code for 2.c:
# Remember to plot magnitude response with dB-scaling on y-axis.
h3_num = [1,-2,1]
h3_dum = [1,-1/2,1/4]
w, h3 = signal.freqz(h3_num, h3_dum) # w = omega/digital frequencies, h = frequency response
b2[0].plot(w, 20*np.log10(np.absolute(h3)))
b2[0].set_title("H3 magnitude response")



# Code for 2.d:
h4_num = [1,2,1,0,0]
h4_dum = [1,-1/2,1/4,-1/8,1/16]
w4, h4 = signal.freqz(h4_num, h4_dum)
b2[1].plot(w4, 20*np.log10(np.absolute(h4)))
b2[1].set_title("H4 magnitude response")






_, e3 = plt.subplots(3, figsize = (10,10))
# Code for part 3.a:
h = [1/2, 0,1,0,1/2]
hfft = np.fft.rfft(h, 512)
#hfft = np.fft.fftshift(hfft)
e3[0].plot(omega_real, hfft)
e3[0].set_title("Frequency Response $h[n]$")
e3[0].set_xlabel('$\\omega$')

# Code for part 3.b:
xb = [1+2*np.sin((np.pi/4) *n) for n in range(100)]
xc = [2+10*np.sin((np.pi/2)*n) + 4*np.cos(np.pi*n) for n in range (100)]

yb = signal.lfilter(h,[1], xb)
ybfft = np.fft.rfft(yb,512)
#ybfft = np.fft.fftshift(ybfft)
e3[1].plot(omega_real, np.absolute(ybfft))
e3[1].set_title("$y_b[n]$")
e3[1].set_xlabel('$\\omega$')

# Code for part 3.c:
yc = signal.lfilter(h,[1], xc)
ycfft = np.fft.rfft(yc,512)
#ycfft = np.fft.fftshift(ycfft)

e3[2].plot(omega_real, np.absolute(ycfft))
e3[2].set_title("$y_c[n]$")
e3[2].set_xlabel('$\\omega$')




plt.tight_layout()





fs, audio = wavfile.read('audiofile.wav') # load the data
print(audio.shape) # one channel


Audio(data=audio, rate=fs) # give it a listen for reference


# Code for 4.a
f1 = np.load("filter-one.npy")
f2 = np.load("filter-two.npy")

_, a4 = plt.subplots(3, figsize = (10,10))
fft1 = np.fft.rfft(audio,512)

a4[0].plot(omega_real, np.absolute(fft1))
a4[0].set_title("Audio FFT")

w1, h1 = signal.freqz(f1, [1]) # w = omega/digital frequencies, h = frequency response
w2, h2 = signal.freqz(f2, [1])


a4[1].plot(w1,np.absolute(h1))
a4[1].set_title("Frequency Response of Filter 1")

a4[2].plot(w2,np.absolute(h2))
a4[2].set_title("Frequency Response of Filter 2")

# Code for 4.b
audio_result1 = signal.lfilter(f1,[1],audio) #first argument is the numerator of transfer function (positive exponents, second argument is the denominator, and last is the time domain input signal
audio_result2 = signal.lfilter(f2,[1],audio)

plt.tight_layout()



# Make sure to typecast audio before listening to it as follows:
audio_result1 = audio_result1.astype(np.int16)
audio_result2 = audio_result2.astype(np.int16)


# Listen to result 1 here!
Audio(data=audio_result1, rate=fs)


# List to result 2 here!
Audio(data=audio_result2, rate=fs)











Fs = 44100 # sampling rate for audio clip in Hz
t1 = 5 # make clips 5 seconds
t = np.linspace(0, t1, t1*Fs) # make sure to specify the number of points to match desired sampling frequency!!!
f0 = 0 # start frequency (Hz)
f1 = 22050 # end frequency (Hz)

"""
instantanous frequency, f(t) = f0 + (f1-f0)*(t/t1)
"""

chirp_original = signal.chirp(t, f0=f0, t1=t1, f1=f1)


# BE CAREFUL WITH YOUR VOLUME! CHIRP SEQUENCES CAN BE LOUD!

Audio(data=chirp_original, rate=Fs) # give it a listen





#Code for 5.a here:
fft_chirp = np.fft.rfft(chirp_original, 512)
omega_real  = np.linspace(0, np.pi, len(fft_chirp))
plt.figure(figsize=(15,6))
plt.title('Magnitude Response of Original Chirp')
plt.plot(omega_real, np.absolute(fft_chirp))
plt.xlabel('$\\omega$')
plt.ylabel('Magnitude Response')

#Code for 5.b here:
current_fs = 29400
current_fs = 8820

t2 = np.linspace(0,t1,(t1*current_fs))
current_chirp = signal.chirp(t2, f0 = f0, t1 = t1, f1 = f1)

fft_chirp2 = np.fft.rfft(current_chirp,512)
plt.figure(figsize=(15,6))
plt.title('Magnitude Response of New Chirp')
plt.plot(omega_real, np.absolute(fft_chirp2))
plt.xlabel('$\\omega$')
plt.ylabel('Magnitude Response')


# Code cell to listen to different chirps you generate
Audio(data=current_chirp, rate=current_fs) # Remember to use correct sampling frequency!








# Part 6.a
# Fill in the below function!
"""
image - image we want to color quantize
k - number of quantization levels (# of crayons)
For example, k = 4 means we will have levels at 0, 85, 170, and 255.

returns: q_image = color quantized image
"""
def uniform_quantizer(image, k):
    # create quantization levels
    levels = np.linspace(0, 255, k) # k evenly spaced colors from 0 (black) to 255 (white)
    # create a new/blank version of the image and compute quantization level spacing
    q_image = np.zeros(image.shape)
    spacing = 255/(k-1)
    # go through each pixel in the original image, assign quantized value to new/blank image
    # remember we choose the quantization level closest to the original value
    for i in range(image.shape[0]):
        for j in range(image.shape[1]):
            index = 0
            val_m = float('inf')
            for n in range(levels.shape[0]):
                diff = image[i,j] - levels[n]
                diff = abs(diff)
                if diff < val_m:
                    val_m = diff
                    index = n
            q_image[i,j] = levels[index]
    # return your quantized image
    return q_image



# Part 6.b/6.c
# Function has been provided for you!
"""
image - image we want to color quantize
k - number of quantization levels

returns: q_image = color quantized image
"""
def lm_quantizer(image, k):
    im_shape = image.shape
    n_rows = im_shape[0]
    n_cols = im_shape[1]
    # create k-means object
    kmeans = KMeans(n_clusters=k)
    # reshape pixel value to be like data points
    if len(im_shape) == 2:
        pixel_vals = np.array([[image[row, col]] for row in range(n_rows) for col in range(n_cols)])
    else:
        pixel_vals = np.array([image[row, col] for row in range(n_rows) for col in range(n_cols)])
    # fit the k-means model to pixel data and get color labels
    color_labels = kmeans.fit_predict(pixel_vals)
    # create blank version of the image
    q_image = np.zeros(im_shape).astype(np.uint8)
    # assign appropriate color to each pixel based on color labels
    colors = kmeans.cluster_centers_.astype(np.uint8)
    for i,label in enumerate(color_labels):
        q_image[int(i/n_cols), i % n_cols] = colors[label]
    return q_image


#Code to test 6.a
gray_image = imread('grayscale-test.jpg')
color_image = imread('color-test.jpg')

k = 4
test1 = uniform_quantizer(gray_image,k)

plt.figure(figsize=(15,20))
plt.subplot(321)
plt.imshow(gray_image,'gray')
plt.title('6a: Original Image')

plt.subplot(322)
plt.imshow(test1,'gray')
plt.title('6a: Quantized Image')

# Code to test 6.b
test2 = lm_quantizer(gray_image,k)
plt.figure(figsize=(15,20))
plt.subplot(321)
plt.imshow(gray_image,'gray')
plt.title('6b: Original Image')

plt.subplot(322)
plt.imshow(test2,'gray')
plt.title('6b: Quantized Image')


# Code to test 6.c
test3 = lm_quantizer(color_image,k)

plt.figure(figsize=(15,20))
plt.subplot(321)
plt.imshow(color_image)
plt.title('6c: Original Image')

plt.subplot(322)
plt.imshow(test3)
plt.title('6c: Quantized Image')






