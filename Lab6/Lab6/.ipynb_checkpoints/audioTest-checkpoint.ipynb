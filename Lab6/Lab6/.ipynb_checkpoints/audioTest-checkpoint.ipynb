{
 "cells": [
  {
   "cell_type": "code",
   "execution_count": 1,
   "metadata": {},
   "outputs": [
    {
     "ename": "ModuleNotFoundError",
     "evalue": "No module named 'librosa'",
     "output_type": "error",
     "traceback": [
      "\u001b[1;31m---------------------------------------------------------------------------\u001b[0m",
      "\u001b[1;31mModuleNotFoundError\u001b[0m                       Traceback (most recent call last)",
      "Cell \u001b[1;32mIn[1], line 2\u001b[0m\n\u001b[0;32m      1\u001b[0m \u001b[38;5;28;01mimport\u001b[39;00m \u001b[38;5;21;01mnumpy\u001b[39;00m \u001b[38;5;28;01mas\u001b[39;00m \u001b[38;5;21;01mnp\u001b[39;00m\n\u001b[1;32m----> 2\u001b[0m \u001b[38;5;28;01mimport\u001b[39;00m \u001b[38;5;21;01mlibrosa\u001b[39;00m\n\u001b[0;32m      3\u001b[0m \u001b[38;5;28;01mimport\u001b[39;00m \u001b[38;5;21;01msoundfile\u001b[39;00m \u001b[38;5;28;01mas\u001b[39;00m \u001b[38;5;21;01msf\u001b[39;00m\n\u001b[0;32m      5\u001b[0m \u001b[38;5;66;03m# Load the music sample\u001b[39;00m\n",
      "\u001b[1;31mModuleNotFoundError\u001b[0m: No module named 'librosa'"
     ]
    }
   ],
   "source": [
    "import numpy as np\n",
    "import librosa\n",
    "import soundfile as sf\n",
    "\n",
    "# Load the music sample\n",
    "audio, sr = librosa.load('music_sample.wav', sr=None)\n",
    "\n",
    "# Perform Fourier Transform\n",
    "D = librosa.stft(audio)\n",
    "frequencies = librosa.fft_frequencies(sr=sr)\n",
    "magnitudes = np.abs(D)\n",
    "\n",
    "# Extract dominant frequencies\n",
    "dominant_freqs = frequencies[np.argmax(magnitudes, axis=0)]\n",
    "\n",
    "# Reconstruct with sine waves\n",
    "t = np.linspace(0, len(audio) / sr, len(audio))\n",
    "sine_wave_audio = np.zeros(len(audio))\n",
    "\n",
    "for f in dominant_freqs:\n",
    "    sine_wave_audio += np.sin(2 * np.pi * f * t)\n",
    "\n",
    "# Normalize and save the new audio\n",
    "sine_wave_audio /= np.max(np.abs(sine_wave_audio))\n",
    "sf.write('sine_wave_version.wav', sine_wave_audio, sr)\n"
   ]
  },
  {
   "cell_type": "code",
   "execution_count": null,
   "metadata": {},
   "outputs": [],
   "source": []
  }
 ],
 "metadata": {
  "kernelspec": {
   "display_name": "base",
   "language": "python",
   "name": "python3"
  },
  "language_info": {
   "codemirror_mode": {
    "name": "ipython",
    "version": 3
   },
   "file_extension": ".py",
   "mimetype": "text/x-python",
   "name": "python",
   "nbconvert_exporter": "python",
   "pygments_lexer": "ipython3",
   "version": "3.12.4"
  }
 },
 "nbformat": 4,
 "nbformat_minor": 2
}
