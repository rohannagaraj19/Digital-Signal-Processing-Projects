


import numpy as np
import matplotlib.pyplot as plt
from IPython.display import Audio # listening to audio

from pz_plot import pz_plot # pole-zero plotting utility
from scipy import signal
from scipy.io import wavfile # audio i/o

%matplotlib inline





b = [1, -0.5, 0] # numerator coefficients, make sure to align zeros where delay terms don't align
a = [1, -1, 1] # denominator coefficients
z, p, k = signal.tf2zpk(b, a) # k is system gain -> okay to ignore this

print('Poles:', p)
print('Zeros:', z)
"""
pz_plot(zeros_list, poles_list, plot_title)
zeros_list = list or array of transfer function's zeros
poles_list = list or array of transfer function's poles
plot_title = string for title of your plot
"""

pz_plot(z, p, 'Pole-Zero Plot Example')





n,y = signal.dimpulse((b, a, 1), n=20) # the 1 is for the change in time per sample, n=20 means 20 points for output
h_n = y[0] # need to access output from returned object

plt.figure()
plt.stem(n, h_n) # plot first 20 samples of impulse response
plt.xlabel('n')
plt.ylabel('Output Signal')
plt.title('Impulse Response of Example System')





# Code for 1.a
h1_num = [2,0,1,0,-1]
h1_dum = [1,0,0,0,0]
z1, p1,_ = signal.tf2zpk(h1_num, h1_dum)
pz_plot(z1,p1, 'Pole Zero plot of H1')
plt.figure()
n1,y1 = signal.dimpulse((h1_num, h1_dum, 1), n=5)
h1_n = y1[0] 
plt.stem(n1, h1_n)

# Code for 1.b
h2_num = [0.5, 0.25, 0]
h2_dum = [1, -np.sqrt(2)/2, 0.25]
z2, p2,_ = signal.tf2zpk(h2_num, h2_dum)
pz_plot(z2,p2, 'Pole Zero plot of H2')
plt.figure()
n2,y2 = signal.dimpulse((h2_num, h2_dum, 1), n=20)
h2_n = y2[0] 
plt.stem(n2, h2_n)

# Code for 1.c
h3_num = [1,1,0,0]
h3_dum = [1,0,0,-1]
z3, p3,_ = signal.tf2zpk(h3_num, h3_dum)
pz_plot(z3,p3, 'Pole Zero plot of H3')
plt.figure()
n3,y3 = signal.dimpulse((h3_num, h3_dum, 1), n=20)
h3_n = y3[0] 
plt.stem(n3, h3_n)









# Code for 2.a
ha_num = [1,-1/2,1/4,-1/8]
ha_dum = [1,0,0,0]
za,pa,_ = signal.tf2zpk(ha_num, ha_dum)
pz_plot(za,pa, 'Pole Zero plot of y1')
plt.figure()
na,ya = signal.dimpulse((ha_num, ha_dum, 1), n=5)
ha_n = ya[0] 
plt.stem(na, ha_n)

# Code for 2.b
hb_num = [1,1/2,0,0]
hb_dum = [1,-1,2,-1]
zb,pb,_ = signal.tf2zpk(hb_num, hb_dum)
pz_plot(zb,pb, 'Pole Zero plot of y2')
plt.figure()
nb,yb = signal.dimpulse((hb_num, hb_dum, 1), n=20)
hb_n = yb[0] 
plt.stem(nb, hb_n)

# Code for 2.c
hc_num = [1/2,1/4,0]
hc_dum = [1,-1/2,-1/4]
zc,pc,_ = signal.tf2zpk(hc_num, hc_dum)
pz_plot(zc,pc, 'Pole Zero plot of y3')
plt.figure()
nc,yc = signal.dimpulse((hc_num, hc_dum, 1), n=20)
hc_n = yc[0] 
plt.stem(nc, hc_n)









def x1(n):
    return np.cos(np.pi/2 * n)
def x2(n):
    return (1/3)**n #we don't need the unit step since n>=0
# Code for System A:
h_a_num = [1/2,-1/2,1/2]
h_a_dum = [1,0,0]
n = np.arange(0,11,1)
y_1_cos = signal.lfilter(h_a_num, h_a_dum, x1(n))
y_1_exp = signal.lfilter(h_a_num, h_a_dum, x2(n))
plt.figure(figsize = (10,6))
plt.suptitle("Part A")
size = 2
plt.subplot(size,size,1)
plt.stem(n, y_1_cos)
plt.title('Cosine Input')

plt.subplot(size,size,2)
plt.stem(n, y_1_exp)
plt.title('Exponential Input')



# Code for System B:
h_b_num = [1,0,-1]
h_b_dum = [1,-1/2,0]
y_2_cos = signal.lfilter(h_b_num, h_b_dum, x1(n))
y_2_exp = signal.lfilter(h_b_num, h_b_dum, x2(n))
plt.figure(figsize = (10,6))
plt.suptitle("Part B")
size = 2
plt.subplot(size,size,1)
plt.stem(n, y_2_cos)
plt.title('Cosine Input')

plt.subplot(size,size,2)
plt.stem(n, y_2_exp)
plt.title('Exponential Input')







# Code for 4.a:
z_4_1, p_4_1, _ = signal.tf2zpk([1,0,0], [1,0,1])
z_4_2, p_4_2, _ = signal.tf2zpk([1,0,0], [1, -np.sqrt(2), 1])
pz_plot(z_4_1, p_4_1, 'System 1 for part A')
pz_plot(z_4_2, p_4_2, 'System 2 for part A')

# Code for 4.b:
def x1_4(n):
    return np.ones_like(n, dtype = 'float')
def x2_4(n):
    return np.cos(np.pi/2 * n)
def x3_4(n):
    return np.cos(np.pi/4 * n)
n_4 = np.arange(0,201,1)
y_unit_sys1 = signal.lfilter([1,0,0], [1,0,1], x1_4(n_4))
y_unit_sys2 = signal.lfilter([1,0,0], [1, -np.sqrt(2), 1], x1_4(n_4))

y_cos1_sys1 = signal.lfilter([1,0,0], [1,0,1], x2_4(n_4))
y_cos1_sys2 = signal.lfilter([1,0,0], [1, -np.sqrt(2), 1], x2_4(n_4))

y_cos2_sys1 = signal.lfilter([1,0,0], [1,0,1], x3_4(n_4))
y_cos2_sys2 = signal.lfilter([1,0,0], [1, -np.sqrt(2), 1], x3_4(n_4))

# Remember to use subplots!
plt.figure(figsize = (20,12))
plt.suptitle("Part 4.b")

plt.subplot(3,2,1)
plt.stem(n_4, y_unit_sys1)
plt.title("System 1, Unit Input")

plt.subplot(3,2,2)
plt.stem(n_4, y_unit_sys2)
plt.title("System 2, Unit Input")

plt.subplot(3,2,3)
plt.stem(n_4, y_cos1_sys1)
plt.title("System 1, Cos(pi/2) Input")

plt.subplot(3,2,4)
plt.stem(n_4, y_cos1_sys2)
plt.title("System 2, Cos(pi/2) Input")

plt.subplot(3,2,5)
plt.stem(n_4, y_cos2_sys1)
plt.title("System 1, Cos(pi/4) Input")

plt.subplot(3,2,6)
plt.stem(n_4, y_cos2_sys2)
plt.title("System 2, Cos(pi/4) Input")








fs, clean = wavfile.read('clean-audio.wav') #reference for what the clean audio sounds like
fs, distorted = wavfile.read('distorted-audio.wav') #distorted audio signal
print(clean.shape) #shape of audio clip numpy arrays, only one channel for these clips
print(distorted.shape)


Audio(data=clean, rate=fs) #listen to clean audio, use headphones and start at low volume!


Audio(data=distorted, rate=fs) #listen to distorted version


# Code for 5.a:
# create inverse filter
g_num = [1,1,1/4]
g_dum = [2,0,-2]

# apply filter to distorted audio, store in variable named "result"
result = signal.lfilter(g_num, g_dum, distorted)


# typecast to appropriate data type, this helps the audio better match what we expect
result = result.astype(np.int16)


Audio(data=result, rate=fs) # listen to your result!


#this is what the original channel's impulse response was
nK,yK = signal.dimpulse((g_dum, g_num, 1), n=20)
plt.figure()
plt.stem(nK, yK[0])






