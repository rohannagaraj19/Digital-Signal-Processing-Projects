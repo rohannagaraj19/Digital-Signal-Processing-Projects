





import numpy as np # rename the library to np for convenience
import matplotlib.pyplot as plt # we want the "pyplot" module

from IPython.display import Audio # listening to audio
from skimage import io # image i/o
from skimage import transform # image transformations
from scipy.io import wavfile # audio i/o

# allows plots to display in the notebook instead of another window
%matplotlib inline

print('Libraries successfully imported!')





a = 10 # integer
b = 5. # float
c = 'signal processing is super cool!' # string
d = True # boolean (True/False) data type
e = 3 + 4.j # complex valued number

add = a+b # addition
sub = a-b # subtraction
div = a/b # division
mult = a*b # multiplication
power = a**b # exponent

print('Hello World!') # printing
# '+' is used for string concatenation (connecting)
print('I must tell everyone that a+b is '+str(add)+'!')
# or we can use string formatting to fill in designated locations in a string
print('And also it is {} that {}'.format(d, c))
# or we can use commas to separate multiple things we want to print
print(type(a), type(b), type(c), type(d), type(e))





#Arrays
arr0 = np.zeros(3) # make an array of zeros, "np.zeros" means we want the zeros() function in the numpy module
arr1 = np.ones(3) # make an array of ones
arr2 = np.array([1, 2, 3]) # typecasting a list to an array
arr2d = np.array([[1, 5, 9],
                  [2, 3, 4]])
print(arr0)
print(arr2d.shape) # arrays have shape, lists do not
print(arr2d[1, 1]) # can index numpy arrays in multiple dimensions, as shown


#Lists
x = [1, 2, 3] # simple 3-element list
y = [[1, 2, 3], ['banana', 'apple', 'orange']] # list of lists!
print(x[0], x[1])
print(x[-1]) # indices "wrap around", so we can also use negative indices
print(y[0][0], y[1][2]) # indexing a list of lists
print(len(x)) # len gives us the length of an array or list

# appending to a list
print(x)
x.append(4)
print(x)


# Dictionaries
d = {} # empty dictionary
d = {'Mechanical Engineering': '5/10', 'Chemical Engineering': '6/10',
    'Electrical and Computer Engineering': '10/10', 'Computer Science': '-1/10'} # initialize some key-value pairs
d['Signal Processing'] = '11/10' # add another key-value pair
print(d['Electrical and Computer Engineering'])





# if-else

a = 5
if(a > 2): # note the colon to terminate the if statement
    print('Hooray!\n') # indentation for the if statement

b = 'Signal Processing'

print(b+'?')
if(b == 'Power'): # double equals is for equality comparison
    print('Eh. Not interesting.')
elif(b == 'Circuits'): # note that "else if" is written as "elif"
    print('No thank you.')
elif(b == 'Signal Processing'):
    print("Now we're talkin'!")
else:
    print('Pass.')


# for

# range is a function that gives us a list of numbers based on different arguments
# try uncommenting each example to verify what it prints
for i in range(3): # with one integer "n", we get every number from 0 to n-1, inclusive
    print(i)

# for i in range(1,4): #1,2,3
    # print(i)
    
# for i in range(5,0,-1): #5,4,3,2,1
    # print(i)
    
# can also iterate over lists, arrays and dictionaries
a = [1, 5, 9, 20]
for i in a: # i will iterate through every value in a
    print(i)
print('')
for key in d: # i will iterate through every key in the dictionary from the previous code cell
    # print each key value pair
    # string formatting, similar to C/C++, convenient tool for printing
    # variables inside the .format() fill in the curly braces in order
    print('{}: {}'.format(key, d[key]))
print('')


# while
j = 0
while(j < 4):
    print(j)
    j += 1 # compound addition, equivalent to j = j+1





#Code for 1.a) here.
nums = [6,5,8,1,1,3,1,0,9]
for i in nums:
    print(i)
    
#Code for 1.b) here
dict = {}
dict['kanye'] = 'flashing lights'
dict['carti'] = 'RIP'
dict['tyler the creator'] = 'Goblin'
for i in dict:
    print(f'{i}: {dict[i]}')





# List Comprehension
a = np.array([i*2 for i in range(1, 51)]) #create a list of the first 50 positive even numbers, then cast to array
b = np.array([i-1 for i in a]) # create a list/array of the first 50 odd numbers from the 'a' list

#Slicing
first_5_even = a[:5] # 2, 4, 6, 8, 10 (the zero at the beginning is inferred)
print('First 5 even numbers')
print(first_5_even)
after_30_even = a[30:] # take every element in 'a' from the index-30 element onward
print('Even numbers after 30')
print(after_30_even)
print('')

#2D Slicing
c = np.array([[1, 2, 3, 4, 5],
              [6, 7, 8, 9, 10],
              [11, 12, 13, 14, 15],
              [16, 17, 18, 19, 20]])
print('Original array')
print(c) # original 2D array
print('Rows 1 and 2')
print(c[1:3]) # print rows 1 and 2
print('Column 0')
print(c[:, 0]) # print every element in the 0 column, commas separate dimensions (rows and columns)
print('Row 0')
print(c[0, :]) # print every element in the 0 row
print('')

#Truth array indices
greater_50 = a > 50 # elements larger than 50
perfect_squares = a % np.sqrt(a)  == 0 # perfect squares
print('Are these even numbers great than 50?')
print(greater_50) # truth array
print('Are these even numbers perfect squares?')
print(perfect_squares)
print('Even numbers greater than 50')
print(a[greater_50]) # show the actual entries in "a" that satisfy the above conditions
print('Perfect square even numbers')
print(a[perfect_squares])





#Code for 2.a) here.
arr = np.array([i for i in range(0,300,3)])
print(arr[20:30])

#Code for 2.b) here.
arr2 = np.array([i**3 for i in range(100)])
truth = arr2 % 32 == 0
print(arr2[truth])










def sine(t, f):
    return np.array([np.sin(2*np.pi*f*time) for time in t])

def cosine(t, f):
    return np.array([np.cos(2*np.pi*f*time) for time in t])

t = np.linspace(0, 5, 1000) # 1000 evenly spaced points from 0 to 5
frequency = 2 # 2 Hz frequency

s = sine(t, frequency)
c = cosine(t, frequency)





size = (8, 6) # (width, height) format
plt.figure(figsize=size)
plt.plot(t,s,label='sine') # first argument is x-axis, second is y-axis, label is useful if we want a legend
plt.plot(t,c,label='cosine') # labels are not always necessary
plt.title('Sine and Cosine with f = 2Hz') #title
plt.xlabel('Time (s)') #time
plt.ylabel('Signal Value') #ylabel
plt.legend() # legend that uses the "label" identifiers from above





plt.figure(figsize=size) # create separate figure
plt.plot(t,s)
plt.title('Sine')
plt.xlabel('Time (s)')
plt.ylabel('Sine Value')

plt.figure(figsize=size) # create separate figure
plt.plot(t,c,'r') # change color to red
plt.title('Cosine')
plt.xlabel('Time (s)')
plt.ylabel('Cosine Value')

# Subplots. Syntax looks different with multiple plots. Similar
# syntax can be used for single plots also.
plt.figure(figsize=(12,6)) # increase figure size for visibility, first argument is width, second is height
plt.subplot(121) # 1 row, 2 columns, first plot
plt.plot(t,s,'black')
plt.title('Sine')
plt.xlabel('Time (s)')
plt.ylabel('Sine Value')
plt.subplot(122) # 1 row, 2 columns, second plot
plt.plot(t,c,'g')
plt.title('Cosine')
plt.xlabel('Time (s)')
plt.ylabel('Cosine Value')





toy_signal = [1, 4, -3, 8, -4, 7, 9]
x_vals = range(len(toy_signal)) # x-axis values
plt.figure()
plt.title('Gross Plot')
plt.plot(x_vals,toy_signal) # this plot looks unnatural
plt.xlabel('Index')
plt.ylabel('Some units')

#now let's try stem
plt.figure()
plt.title('Prettier Plot')
plt.stem(x_vals,toy_signal) #pretty!
plt.xlabel('Index')
plt.ylabel('Some units')





# Code for Excercise 3 here.
#now let's try stem
plt.figure()
plt.title('UIN')
plt.stem(nums) #pretty!
plt.xlabel('Index')
plt.ylabel('Some units')





img_color = io.imread('test_image.jpg') # load as color image
img_gray = io.imread('test_image.jpg', as_gray=True) # load in grayscale
img_line = img_gray[100,:] # slice out the 100th row of the image
print(type(img_color)) # verify its a numpy array
# check out the height, width, and number of color channels for both color and grayscale images
print('Color image shape:', img_color.shape) # height,width,color channels
print('Grayscale image shape:', img_gray.shape) # height, width

plt.figure(figsize=(15,6))
plt.plot(range(img_gray.shape[1]), img_line)
plt.title('Index 100 Row of Grayscale Image')
plt.xlabel('Column')
plt.ylabel('Pixel Intensity')








plt.figure(figsize=(15,6))
plt.subplot(121)
plt.title('Ordinary Test Image - Color')
plt.imshow(img_color)
plt.subplot(122)
plt.title('Ordinary Test Image - Grayscale')
plt.imshow(img_gray, 'gray') # tell matplotlib the image is grayscale





color_zoom_1 = img_color[475:, 375:]
gray_zoom_1 = img_gray[475:, 375:]
color_zoom_2 = color_zoom_1[200:450, 200:600]
gray_zoom_2 = gray_zoom_1[200:450, 200:600]
color_zoom_3 = color_zoom_2[35:75, 255:300]
gray_zoom_3 = gray_zoom_2[35:75, 255:300]
plt.figure(figsize=(15,9))
plt.subplot(241) # two rows, four columns, first image
plt.imshow(img_color)
plt.title('Color - Original')
plt.subplot(242) # two rows, four columns, second image
plt.imshow(color_zoom_1)
plt.title('Color - Zoom #1') # and so on...
plt.subplot(243)
plt.imshow(color_zoom_2)
plt.title('Color - Zoom #2')
plt.subplot(244)
plt.imshow(color_zoom_3)
plt.title('Color - Zoom #2')
plt.subplot(245)
plt.imshow(img_gray,'gray')
plt.title('Grayscale - Original')
plt.subplot(246)
plt.imshow(gray_zoom_1,'gray')
plt.title('Grayscale - Zoom #1')
plt.subplot(247)
plt.imshow(gray_zoom_2,'gray')
plt.title('Grayscale - Zoom #2')
plt.subplot(248)
plt.imshow(gray_zoom_3,'gray')
plt.title('Grayscale - Zoom #3')








#img_color = io.imread('test_image.jpg') # load as color image
# Code for Exercise 4.a:
# Suggested outline
# (1) Initialize arrays of zeros for each of the three color channels,
# you should have three 3-dimensional zero arrays, don't forget to set the data type to int!
red = np.zeros((1200,1200,3), dtype = int)
green = np.zeros((1200,1200,3), dtype = int)
blue = np.zeros((1200,1200,3), dtype = int)


# (2) For each color channel, use array slicing to extract that color channel's values from the original image
# and place these values in the same corresponding color channel. For example, place the green channel values in
# the green channel of your blank green channel image from step (1).
red[:,:,0] = img_color[:,:,0]
green[:,:,1] = img_color[:,:,1]
blue[:,:,2] = img_color[:,:,2]
# (3) Plot!
plt.figure(figsize=(12, 4))

plt.subplot(1, 3, 1)
plt.imshow(red)
plt.title('Red Channel')

plt.subplot(1, 3, 2)
plt.imshow(green)
plt.title('Green Channel')

plt.subplot(1, 3, 3)
plt.imshow(blue)
plt.title('Blue Channel')

plt.show()
# Code for Exercise 4.b:
red_sum = np.sum(red)
green_sum = np.sum(green)
blue_sum  = np.sum(blue)

print(red_sum)
print(green_sum)
print(blue_sum)



'It appears that the blue color channel is the strongest. This makes sense because there is a lot of blue skies and blue water in the picture)'








fs, data = wavfile.read('audiofile.wav') # fs is sampling rate, data is the audio data

print('Sampling rate is {} Hz'.format(fs))
print('Audio data type: {}'.format(type(data)))
# number_samples x 2 channels, notice the second dimension indicates the channel
print('Audio data shape: {}'.format(data.shape))

# This audio file seems to be stereo; however, the two channels are nearly identical.
# This is typically not true with stereo audio files!

time = np.linspace(0, len(data)/fs, len(data)) #array for time values in audio file
plt.figure(figsize = (15, 6))
plt.subplot(121)
plt.title("'audiofile.wav' Left Channel")
plt.plot(time,data[:, 0]) #left channel
plt.xlabel('Time (s)')
plt.ylabel('Left Channel')

plt.subplot(122)
plt.title("'audiofile.wav' Right Channel")
plt.plot(time,data[:, 1]) #right channel
plt.xlabel('Time (s)')
plt.ylabel('Right Channel')





Audio(data=[data[:, 0], data[:, 1]],rate=fs)





rate_factor = 2
Audio(data=[data[:, 0],data[:, 1]], rate=fs*rate_factor)






